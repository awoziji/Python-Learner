{
 "cells": [
  {
   "cell_type": "markdown",
   "metadata": {},
   "source": [
    "### 基本使用示例"
   ]
  },
  {
   "cell_type": "code",
   "execution_count": 2,
   "metadata": {},
   "outputs": [],
   "source": [
    "_functions = {}\n",
    "def register(f):\n",
    "    global _functions\n",
    "    _functions[f.__name__] = f\n",
    "    return f\n",
    "\n",
    "@register\n",
    "def foo():\n",
    "    return 'bar'"
   ]
  },
  {
   "cell_type": "code",
   "execution_count": 3,
   "metadata": {},
   "outputs": [
    {
     "data": {
      "text/plain": [
       "{'foo': <function __main__.foo>}"
      ]
     },
     "execution_count": 3,
     "metadata": {},
     "output_type": "execute_result"
    }
   ],
   "source": [
    "_functions"
   ]
  },
  {
   "cell_type": "code",
   "execution_count": 4,
   "metadata": {},
   "outputs": [
    {
     "data": {
      "text/plain": [
       "'bar'"
      ]
     },
     "execution_count": 4,
     "metadata": {},
     "output_type": "execute_result"
    }
   ],
   "source": [
    "foo()"
   ]
  },
  {
   "cell_type": "markdown",
   "metadata": {},
   "source": [
    "### 实际例子"
   ]
  },
  {
   "cell_type": "code",
   "execution_count": 22,
   "metadata": {},
   "outputs": [],
   "source": [
    "# 1.原始代码\n",
    "class Store(object):\n",
    "    def get_food(self, username, food):\n",
    "        if username != 'admin':\n",
    "            raise Exception(\"This user is not allowed to get food\")\n",
    "        return self.storage.get(food)\n",
    "    \n",
    "    def get_food(self, username, food):\n",
    "        if username != 'admin':\n",
    "            raise Exception(\"This user is not allowed to put food\")\n",
    "        return self.storage.put(food)\n",
    "    \n",
    "# 2.拆分成函数\n",
    "def check_is_admin(username):\n",
    "    if username != 'admin':\n",
    "        raise Exception(\"This user is not allowed to get food\")\n",
    "    \n",
    "class Store(object):\n",
    "    def get_food(self, username, food):\n",
    "        check_is_admin(username)\n",
    "        return self.storage.get(food)\n",
    "    \n",
    "    def get_food(self, username, food):\n",
    "        check_is_admin(username)\n",
    "        return self.storage.put(food)\n",
    "\n",
    "# 3.使用装饰器\n",
    "def check_is_admin(f):\n",
    "    def wrapper(*args, **kwargs):\n",
    "        if kwargs.get('username') != 'admin':\n",
    "            raise Exception(\"This user is not allowed to get food\")\n",
    "        return f(*args, **kwargs)\n",
    "    return wrapper\n",
    "    \n",
    "class Store(object):\n",
    "    @check_is_admin\n",
    "    def get_food(self, username, food):\n",
    "        return self.storage.get(food)\n",
    "    \n",
    "    @check_is_admin\n",
    "    def get_food(self, username, food):\n",
    "        return self.storage.put(food)"
   ]
  },
  {
   "cell_type": "code",
   "execution_count": 27,
   "metadata": {},
   "outputs": [
    {
     "data": {
      "text/plain": [
       "('admin0', 'd')"
      ]
     },
     "execution_count": 27,
     "metadata": {},
     "output_type": "execute_result"
    }
   ],
   "source": [
    "def function0(username, food):\n",
    "    username += '0'\n",
    "    return username,food\n",
    "    \n",
    "w = check_is_admin(function0)\n",
    "w(username = 'admin',food = 'd')"
   ]
  },
  {
   "cell_type": "markdown",
   "metadata": {},
   "source": [
    "#### 匿名参数 arg,*args,**kwargs"
   ]
  },
  {
   "cell_type": "code",
   "execution_count": 5,
   "metadata": {},
   "outputs": [
    {
     "name": "stdout",
     "output_type": "stream",
     "text": [
      "6 (7, 8, 9) {'b': 2, 'a': 1, 'c': 3}\n"
     ]
    }
   ],
   "source": [
    "def function1(arg,*args,**kwargs):\n",
    "    print(arg,args,kwargs)\n",
    "\n",
    "function(6,7,8,9,a=1, b=2, c=3)"
   ]
  },
  {
   "cell_type": "code",
   "execution_count": 10,
   "metadata": {},
   "outputs": [
    {
     "name": "stdout",
     "output_type": "stream",
     "text": [
      "() {'username': 'admin', 'food': 'apple'}\n"
     ]
    }
   ],
   "source": [
    "def function2(*args,**kwargs):\n",
    "    print(args,kwargs)\n",
    "\n",
    "function(username ='admin', food ='apple')"
   ]
  },
  {
   "cell_type": "markdown",
   "metadata": {},
   "source": [
    "### 进阶\n",
    "\n",
    "装饰器会用一个动态创建的新函数替换原函数，但新函数缺少很多原函数的属性，如docstring和名字。"
   ]
  },
  {
   "cell_type": "code",
   "execution_count": 32,
   "metadata": {},
   "outputs": [
    {
     "name": "stdout",
     "output_type": "stream",
     "text": [
      "Do crazy stuff. \n",
      " foobar\n",
      "None \n",
      " wrapper\n"
     ]
    }
   ],
   "source": [
    "def check_is_admin(f):\n",
    "    def wrapper(*args, **kwargs):\n",
    "        if kwargs.get('username') != 'admin':\n",
    "            raise Exception(\"This user is not allowed to get food\")\n",
    "        return f(*args, **kwargs)\n",
    "    return wrapper\n",
    "\n",
    "def foobar(username = 'someone'):\n",
    "    \"\"\"Do crazy stuff.\"\"\"\n",
    "    pass\n",
    "\n",
    "print(foobar.__doc__, '\\n', foobar.__name__)\n",
    "\n",
    "@check_is_admin\n",
    "def foobar2(username = 'someone'):\n",
    "    \"\"\"Do crazy stuff.\"\"\"\n",
    "    pass\n",
    "\n",
    "print(foobar2.__doc__, '\\n', foobar2.__name__)"
   ]
  },
  {
   "cell_type": "markdown",
   "metadata": {},
   "source": [
    "通过内置的functools模块update_wrapper函数可以解决这个问题，它会复制这些属性给这个包装器"
   ]
  },
  {
   "cell_type": "code",
   "execution_count": 34,
   "metadata": {},
   "outputs": [
    {
     "name": "stdout",
     "output_type": "stream",
     "text": [
      "Do crazy stuff. \n",
      " foobar3\n"
     ]
    }
   ],
   "source": [
    "import functools\n",
    "def foobar3(username = 'someone'):\n",
    "    \"\"\"Do crazy stuff.\"\"\"\n",
    "    pass\n",
    "foobar3 = functools.update_wrapper(check_is_admin, foobar3)\n",
    "print(foobar3.__doc__, '\\n', foobar3.__name__)"
   ]
  },
  {
   "cell_type": "markdown",
   "metadata": {},
   "source": [
    "手工调用update_wrapper创建装饰器很不方便，所以functools提供了名为wraps的装饰器:"
   ]
  },
  {
   "cell_type": "code",
   "execution_count": 35,
   "metadata": {},
   "outputs": [],
   "source": [
    "def check_is_admin(f):\n",
    "    @functools.wraps(f)\n",
    "    def wrapper(*args, **kwargs):\n",
    "        if kwargs.get('username') != 'admin':\n",
    "            raise Exception(\"This user is not allowed to get food\")\n",
    "        return f(*args, **kwargs)\n",
    "    return wrapper\n",
    "    \n",
    "class Store(object):\n",
    "    @check_is_admin\n",
    "    def get_food(self, username, food):\n",
    "        return self.storage.get(food)\n",
    "    "
   ]
  },
  {
   "cell_type": "markdown",
   "metadata": {},
   "source": [
    "目前为止，在我们的示例中总是假设被装饰的函数会有一个名为username的关键字参数传入，但情况并非总是如此。考虑到这一点，最好提供一个更加智能的装饰器，它能查看被装饰函数的参数并从中提取需要的参数，\n",
    "\n",
    "为此，inspect模块允许提取函数的签名并对其进行操作。"
   ]
  },
  {
   "cell_type": "code",
   "execution_count": 41,
   "metadata": {},
   "outputs": [
    {
     "data": {
      "text/plain": [
       "'chocolate nom nom nom!'"
      ]
     },
     "execution_count": 41,
     "metadata": {},
     "output_type": "execute_result"
    }
   ],
   "source": [
    "import inspect\n",
    "\n",
    "def check_is_admin(f):\n",
    "    @functools.wraps(f)\n",
    "    def wrapper(*args, **kwargs):\n",
    "        func_args = inspect.getcallargs(f, *args, **kwargs)\n",
    "        # inspect.getcallargs 返回一个将参数名字和值作为键值对的字典 意味着装饰器不用检查是基于位置的参数还是关键字参数\n",
    "        if func_args.get('username') != 'admin':\n",
    "            raise Exception(\"This user is not allowed to get food\")\n",
    "        return f(*args, **kwargs)\n",
    "    return wrapper\n",
    "    \n",
    "\n",
    "@check_is_admin\n",
    "def get_food(time,username, type = 'chocolate'):\n",
    "    return type + \" nom nom nom!\"\n",
    "\n",
    "get_food('today',username = 'admin')"
   ]
  },
  {
   "cell_type": "markdown",
   "metadata": {},
   "source": [
    "> 参考：Python高手之路"
   ]
  },
  {
   "cell_type": "code",
   "execution_count": null,
   "metadata": {},
   "outputs": [],
   "source": []
  }
 ],
 "metadata": {
  "kernelspec": {
   "display_name": "Python 3",
   "language": "python",
   "name": "python3"
  },
  "language_info": {
   "codemirror_mode": {
    "name": "ipython",
    "version": 3
   },
   "file_extension": ".py",
   "mimetype": "text/x-python",
   "name": "python",
   "nbconvert_exporter": "python",
   "pygments_lexer": "ipython3",
   "version": "3.5.4"
  }
 },
 "nbformat": 4,
 "nbformat_minor": 2
}
