{
 "cells": [
  {
   "cell_type": "code",
   "execution_count": 12,
   "metadata": {},
   "outputs": [],
   "source": [
    "import cv2\n",
    "import numpy as np\n",
    "\n",
    "def showImg(name):\n",
    "    s=str(name)\n",
    "    cv2.namedWindow(s)\n",
    "    cv2.imshow(s,name)\n",
    "    cv2.waitKey(0)  #图像窗口保持的时间，0即一直显示，可指定数值，单位为ms。若小于0则按任意键关闭。返回值为按键值。\n",
    "    cv2.destroyAllWindows()  \n",
    "\n",
    "# read a picture\n",
    "img = cv2.imread(r\"F:/data/0.png\")\n",
    "showImg(img)"
   ]
  },
  {
   "cell_type": "code",
   "execution_count": 26,
   "metadata": {},
   "outputs": [],
   "source": [
    "#print(img)"
   ]
  },
  {
   "cell_type": "code",
   "execution_count": 4,
   "metadata": {},
   "outputs": [
    {
     "name": "stdout",
     "output_type": "stream",
     "text": [
      "(64, 65, 3)\n"
     ]
    }
   ],
   "source": [
    "print(img.shape)"
   ]
  },
  {
   "cell_type": "code",
   "execution_count": 5,
   "metadata": {},
   "outputs": [
    {
     "name": "stdout",
     "output_type": "stream",
     "text": [
      "(64, 65)\n"
     ]
    }
   ],
   "source": [
    "imgGray = cv2.cvtColor(img,cv2.COLOR_BGR2GRAY) \n",
    "showImg(imgGray)\n",
    "print(imgGray.shape)"
   ]
  },
  {
   "cell_type": "code",
   "execution_count": 11,
   "metadata": {},
   "outputs": [
    {
     "name": "stdout",
     "output_type": "stream",
     "text": [
      "(64, 64)\n",
      "[[255 255 255 ..., 255 255 255]\n",
      " [255 255 255 ..., 255 255 255]\n",
      " [255 255 255 ..., 255 255 255]\n",
      " ..., \n",
      " [255 255 255 ..., 255 255 255]\n",
      " [255 255 255 ..., 255 255 255]\n",
      " [255 255 255 ..., 255 255 255]]\n"
     ]
    }
   ],
   "source": [
    "imgGray.resize(64,64)\n",
    "print(imgGray.shape)\n",
    "print(imgGray)"
   ]
  },
  {
   "cell_type": "code",
   "execution_count": 39,
   "metadata": {},
   "outputs": [
    {
     "name": "stdout",
     "output_type": "stream",
     "text": [
      "290\n"
     ]
    }
   ],
   "source": [
    "img = imgGray\n",
    "def ifSide(img,i,j):\n",
    "    if (img[i,j] == img[i-1,j] and img[i,j] == img[i,j-1] and img[i,j] != img[i+1,j] and img[i,j] != img[i,j+1]) or\\\n",
    "        (img[i,j] == img[i+1,j] and img[i,j] == img[i,j-1] and img[i,j] != img[i-1,j] and img[i,j] != img[i,j+1]) or\\\n",
    "        (img[i,j] == img[i-1,j] and img[i,j] == img[i,j+1] and img[i,j] != img[i+1,j] and img[i,j] != img[i,j-1]) or\\\n",
    "        (img[i,j] == img[i+1,j] and img[i,j] == img[i,j+1] and img[i,j] != img[i-1,j] and img[i,j] != img[i,j-1]):\n",
    "        return True\n",
    "    else:\n",
    "        return False\n",
    "\n",
    "outside = []\n",
    "for i in range(1,63):\n",
    "    for j in range(1,63):\n",
    "        if ifSide(img,i,j):\n",
    "            outside.append([i,j])\n",
    "print(len(outside))"
   ]
  },
  {
   "cell_type": "code",
   "execution_count": 43,
   "metadata": {},
   "outputs": [],
   "source": [
    "blank = np.ones((64,64))*255\n",
    "showImg(blank)"
   ]
  },
  {
   "cell_type": "code",
   "execution_count": 45,
   "metadata": {},
   "outputs": [],
   "source": [
    "for d in outside:\n",
    "    blank[d[0],d[1]]=0\n",
    "showImg(blank)"
   ]
  },
  {
   "cell_type": "code",
   "execution_count": null,
   "metadata": {},
   "outputs": [],
   "source": []
  }
 ],
 "metadata": {
  "kernelspec": {
   "display_name": "Python 3",
   "language": "python",
   "name": "python3"
  },
  "language_info": {
   "codemirror_mode": {
    "name": "ipython",
    "version": 3
   },
   "file_extension": ".py",
   "mimetype": "text/x-python",
   "name": "python",
   "nbconvert_exporter": "python",
   "pygments_lexer": "ipython3",
   "version": "3.5.4"
  }
 },
 "nbformat": 4,
 "nbformat_minor": 2
}
